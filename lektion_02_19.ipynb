{
 "cells": [
  {
   "cell_type": "markdown",
   "metadata": {},
   "source": [
    "Machine learning\n",
    "\n",
    "Data engineering\n",
    "\n",
    "    . What data is available for machine learning?\n",
    "    . How do we collect data?\n",
    "    . Make it available\n",
    "    . Backups etc\n",
    "    . Is it legal even?!\n",
    "\n",
    "    . Anonymisera data - T.ex. namn, mac-adresser, personliga uppgifter osv\n",
    "    . Rensa datan med en hashfunktion eller liknande. \n",
    "\n",
    "    . Future engineering - T.ex. data augmentation (Stort ämne)\n",
    "\n",
    "Training (model fitting)\n",
    "\n",
    "    . Evaluate\n",
    "    . Deploy\n",
    "\n",
    "Detta kallas offline learning:\n",
    "    Efter att modellen har blivit tränad, sker inga fler uppdateringar eller förfiningar. \n",
    "\n",
    "För att vi skall kunna använda okänd data: \n",
    "    . Train-test-split\n",
    "\n",
    "MSE - Kolla upp när n går mot 0 mse = 0\n",
    "detta gäller bara om rss/sse är bounded (begränsad)\n",
    "\n",
    "\n",
    "RMSE - Kolla upp\n",
    "\n",
    "Colinarity is only mathically relevant for significance tests!\n",
    "\n",
    "\n",
    "\n"
   ]
  },
  {
   "cell_type": "code",
   "execution_count": null,
   "metadata": {
    "vscode": {
     "languageId": "plaintext"
    }
   },
   "outputs": [],
   "source": []
  }
 ],
 "metadata": {
  "language_info": {
   "name": "python"
  }
 },
 "nbformat": 4,
 "nbformat_minor": 2
}
